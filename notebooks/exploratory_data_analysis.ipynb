{
 "cells": [
  {
   "cell_type": "markdown",
   "metadata": {},
   "source": [
    "# Exploratory Data Analysis (EDA)\n",
    "\n",
    "In this notebook, we will perform exploratory data analysis on the preprocessed Telco Customer Churn dataset. Our goal is to gain insights into the data, understand the relationships between variables, and identify any patterns that may help in predicting customer churn.\n"
   ]
  },
  {
   "cell_type": "markdown",
   "metadata": {},
   "source": [
    "## Load Preprocessed Dataset\n",
    "\n",
    "We start by loading the preprocessed dataset. This dataset has been cleaned and prepared in the previous notebook.\n"
   ]
  },
  {
   "cell_type": "markdown",
   "metadata": {},
   "source": [
    "## Summary Statistics\n",
    "\n",
    "We print summary statistics of the dataset to understand the distribution of each variable. This step helps us identify any potential outliers or anomalies.\n"
   ]
  },
  {
   "cell_type": "markdown",
   "metadata": {},
   "source": [
    "## Distribution of Churn\n",
    "\n",
    "We plot the distribution of the target variable `Churn` to see the balance between the classes. This information is crucial for selecting appropriate evaluation metrics and handling imbalanced data.\n"
   ]
  },
  {
   "cell_type": "markdown",
   "metadata": {},
   "source": [
    "## Correlation Matrix\n",
    "\n",
    "We visualize the correlation matrix to understand the relationships between different variables. High correlations can indicate multicollinearity, which we need to address in the modeling phase.\n"
   ]
  },
  {
   "cell_type": "markdown",
   "metadata": {},
   "source": [
    "## Pairplot of Features against Churn\n",
    "\n",
    "Pairplots help us visualize the relationships between numerical features and the target variable `Churn`. This step can reveal patterns and trends that are not immediately obvious.\n"
   ]
  },
  {
   "cell_type": "markdown",
   "metadata": {},
   "source": [
    "## Boxplots of Numerical Features by Churn\n",
    "\n",
    "Boxplots allow us to compare the distribution of numerical features for the churn and non-churn classes. This step helps us understand how these features vary with the target variable.\n"
   ]
  },
  {
   "cell_type": "markdown",
   "metadata": {},
   "source": [
    "## Countplots of Categorical Features by Churn\n",
    "\n",
    "We create countplots to analyze the distribution of categorical features across the churn and non-churn classes. This step provides insights into how categorical variables influence customer churn.\n"
   ]
  }
 ],
 "metadata": {
  "kernelspec": {
   "display_name": "Python 3",
   "language": "python",
   "name": "python3"
  },
  "language_info": {
   "name": "python",
   "version": "3.11.9"
  }
 },
 "nbformat": 4,
 "nbformat_minor": 2
}
